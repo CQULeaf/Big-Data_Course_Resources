{
 "cells": [
  {
   "cell_type": "code",
   "execution_count": null,
   "metadata": {},
   "outputs": [
    {
     "name": "stdout",
     "output_type": "stream",
     "text": [
      "OpenCV 可用，使用 OpenCV 进行 HOG 特征提取\n",
      "开始处理图片...\n",
      "已处理 1000 张图片\n",
      "已处理 2000 张图片\n",
      "已处理 3000 张图片\n",
      "已处理 4000 张图片\n",
      "已处理 5000 张图片\n",
      "已处理 6000 张图片\n",
      "已处理 7000 张图片\n",
      "已处理 8000 张图片\n",
      "已处理 9000 张图片\n",
      "已处理 10000 张图片\n",
      "已处理 11000 张图片\n",
      "已处理 12000 张图片\n",
      "已处理 13000 张图片\n",
      "已处理 14000 张图片\n",
      "已处理 15000 张图片\n",
      "图片处理完成\n"
     ]
    }
   ],
   "source": [
    "import numpy as np\n",
    "import os\n",
    "from sklearn.model_selection import train_test_split\n",
    "from skimage.feature import hog\n",
    "from skimage.io import imread\n",
    "\n",
    "# 检查 OpenCV 是否可用\n",
    "try:\n",
    "    import cv2\n",
    "    use_opencv = True\n",
    "    print(\"OpenCV 可用，使用 OpenCV 进行 HOG 特征提取\")\n",
    "except ImportError:\n",
    "    use_opencv = False\n",
    "    print(\"OpenCV 不可用，使用 skimage 进行 HOG 特征提取\")\n",
    "\n",
    "# 设置数据目录和输出目录\n",
    "data_dir = \"data\"\n",
    "output_dir = \"src\"\n",
    "os.makedirs(output_dir, exist_ok=True)\n",
    "\n",
    "# 定义 HOG 特征提取参数\n",
    "if use_opencv:\n",
    "    hog_descriptor = cv2.HOGDescriptor((64, 64), (16, 16), (8, 8), (8, 8), 9)\n",
    "\n",
    "# 提取标签\n",
    "def get_label_from_filename(filename):\n",
    "    set_str = filename.strip(\"Locate{}.jpg\")\n",
    "    label = int(set_str.split(\",\")[-1]) - 1\n",
    "    return label\n",
    "\n",
    "# 初始化数据容器\n",
    "img_arrs = []\n",
    "labels = []\n",
    "\n",
    "print(\"开始处理图片...\")\n",
    "for i, filename in enumerate(os.listdir(data_dir)):\n",
    "    file_path = os.path.join(data_dir, filename)\n",
    "    try:\n",
    "        img = imread(file_path, as_gray=True)\n",
    "        if use_opencv:\n",
    "            img = cv2.resize(img, (64, 64))\n",
    "            img_arr = hog_descriptor.compute(img).flatten()\n",
    "        else:\n",
    "            img_arr = hog(img, pixels_per_cell=(8, 8), cells_per_block=(2, 2), block_norm='L2-Hys')\n",
    "        label = get_label_from_filename(filename)\n",
    "        img_arrs.append(img_arr)\n",
    "        labels.append(label)\n",
    "        \n",
    "        # 打印进度\n",
    "        if (i + 1) % 1000 == 0:\n",
    "            print(f\"已处理 {i + 1} 张图片\")\n",
    "\n",
    "    except Exception as e:\n",
    "        print(f\"处理 {filename} 时出错: {e}\")\n",
    "\n",
    "print(\"图片处理完成\")"
   ]
  },
  {
   "cell_type": "markdown",
   "metadata": {},
   "source": [
    "注意上面这部分代码，我使用条件语句来动态调整 `HOG` 特征提取的方法：\n",
    "\n",
    "1. 如果 `OpenCV` 可用，则优先用其处理数据。\n",
    "2. 如果不可用，则使用 `skimage` 来处理数据。\n",
    "\n",
    "当然，如果你按照[实验三环境搭建指南](https://github.com/CQULeaf/Big-Data_Course_Resources/blob/main/Lab/Lab3_CHN/%E5%AE%9E%E9%AA%8C%E4%B8%89%E7%8E%AF%E5%A2%83%E6%90%AD%E5%BB%BA%E6%8C%87%E5%8D%97.md)进行 `OpenCV` 的下载安装，是一定能像我这样使用 `OpenCV` 处理图片成功的。"
   ]
  },
  {
   "cell_type": "code",
   "execution_count": 3,
   "metadata": {},
   "outputs": [
    {
     "name": "stdout",
     "output_type": "stream",
     "text": [
      "数据保存成功，文件已生成在 src 目录中\n"
     ]
    }
   ],
   "source": [
    "# 转换为数组并分割数据集\n",
    "x = np.array(img_arrs)\n",
    "y = np.array(labels)\n",
    "x_train, x_test, y_train, y_test = train_test_split(x, y, test_size=0.2, random_state=42)\n",
    "\n",
    "# 生成 CSV 数据\n",
    "train_data = np.hstack((x_train, y_train.reshape(-1, 1)))\n",
    "test_data = np.hstack((x_test, y_test.reshape(-1, 1)))\n",
    "\n",
    "# 保存数据到 CSV 文件\n",
    "np.savetxt(os.path.join(output_dir, \"train.csv\"), train_data, delimiter=\",\", fmt=\"%.4f\")\n",
    "np.savetxt(os.path.join(output_dir, \"test.csv\"), test_data, delimiter=\",\", fmt=\"%.4f\")\n",
    "\n",
    "print(\"数据保存成功，文件已生成在 src 目录中\")"
   ]
  }
 ],
 "metadata": {
  "kernelspec": {
   "display_name": "big_data_lab_env",
   "language": "python",
   "name": "python3"
  },
  "language_info": {
   "codemirror_mode": {
    "name": "ipython",
    "version": 3
   },
   "file_extension": ".py",
   "mimetype": "text/x-python",
   "name": "python",
   "nbconvert_exporter": "python",
   "pygments_lexer": "ipython3",
   "version": "3.10.15"
  }
 },
 "nbformat": 4,
 "nbformat_minor": 2
}
