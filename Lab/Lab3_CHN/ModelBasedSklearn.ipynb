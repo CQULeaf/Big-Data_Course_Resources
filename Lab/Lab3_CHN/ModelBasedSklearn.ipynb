{
 "cells": [
  {
   "cell_type": "code",
   "execution_count": null,
   "metadata": {},
   "outputs": [
    {
     "name": "stdout",
     "output_type": "stream",
     "text": [
      "训练集大小: 11250, 测试集大小: 3750\n",
      "数据加载成功\n",
      "模型训练开始时间: 2024-11-04 15:42:55\n",
      "模型训练成功时间: 2024-11-04 15:42:55\n",
      "KNN (n=5) 模型准确率： 0.41013333333333335\n"
     ]
    }
   ],
   "source": [
    "# 数据集可分性测试\n",
    "import numpy as np\n",
    "import matplotlib.pyplot as plt\n",
    "import os\n",
    "from sklearn.neighbors import KNeighborsClassifier\n",
    "import time\n",
    "from sklearn.model_selection import train_test_split\n",
    "\n",
    "# 数据目录\n",
    "data_dir = \"data\"\n",
    "\n",
    "# 读取图片数据和标签\n",
    "pic_names = os.listdir(data_dir)\n",
    "img_arrs, labels = [], []\n",
    "\n",
    "for pic_name in pic_names:\n",
    "    # 读取图片数据\n",
    "    imgarr = plt.imread(os.path.join(data_dir, pic_name))\n",
    "    img_arr = imgarr.reshape(-1)\n",
    "    img_arrs.append(img_arr)\n",
    "\n",
    "    # 读取标签\n",
    "    set_str = pic_name.strip(\"Locate{}.jpg\")\n",
    "    label = int(set_str[-set_str[::-1].index(\",\"):]) - 1\n",
    "    labels.append(label)\n",
    "\n",
    "# 转换为NumPy数组\n",
    "x = np.array(img_arrs)\n",
    "y = np.array(labels)\n",
    "\n",
    "# 划分训练集和测试集\n",
    "x_train, x_test, y_train, y_test = train_test_split(x, y)\n",
    "\n",
    "print(f\"训练集大小: {len(x_train)}, 测试集大小: {len(x_test)}\")\n",
    "print(\"数据加载成功\")\n",
    "\n",
    "# 训练 KNN 模型\n",
    "print(\"模型训练开始时间:\", time.strftime('%Y-%m-%d %H:%M:%S'))\n",
    "\n",
    "model_knn = KNeighborsClassifier(n_neighbors=5, n_jobs=-1)\n",
    "model_knn.fit(x_train, y_train)\n",
    "\n",
    "print(\"模型训练成功时间:\", time.strftime('%Y-%m-%d %H:%M:%S'))\n",
    "\n",
    "# 评估模型准确性\n",
    "accuracy = model_knn.score(x_test, y_test)\n",
    "print(\"KNN (n=5) 模型准确率：\", accuracy)"
   ]
  }
 ],
 "metadata": {
  "kernelspec": {
   "display_name": "big_data_lab_env",
   "language": "python",
   "name": "python3"
  },
  "language_info": {
   "codemirror_mode": {
    "name": "ipython",
    "version": 3
   },
   "file_extension": ".py",
   "mimetype": "text/x-python",
   "name": "python",
   "nbconvert_exporter": "python",
   "pygments_lexer": "ipython3",
   "version": "3.10.15"
  }
 },
 "nbformat": 4,
 "nbformat_minor": 2
}
